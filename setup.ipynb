{
 "cells": [
  {
   "cell_type": "code",
   "execution_count": 5,
   "metadata": {},
   "outputs": [
    {
     "name": "stdout",
     "output_type": "stream",
     "text": [
      "Python 3.7.7\n",
      "1.5.0\n",
      "True\n",
      "10.1\n"
     ]
    }
   ],
   "source": [
    "# check version\n",
    "!python --version\n",
    "import torch\n",
    "print(torch.__version__)\n",
    "\n",
    "# check CUDA\n",
    "print(torch.cuda.is_available())\n",
    "print(torch.version.cuda)"
   ]
  },
  {
   "cell_type": "code",
   "execution_count": 20,
   "metadata": {},
   "outputs": [
    {
     "name": "stdout",
     "output_type": "stream",
     "text": [
      "Size of image_2 data:\n",
      "7481\n",
      "Size of image_3 data:\n",
      "7481\n",
      "Size of label_2:\n",
      "7481\n"
     ]
    }
   ],
   "source": [
    "# Download data (NOTE: if you are using docker, no need to download again)\n",
    "# http://www.cvlibs.net/datasets/kitti/eval_object.php?obj_benchmark=3d\n",
    "!apt update\n",
    "!apt install wget -y\n",
    "!apt install unzip -y\n",
    "# image_2 for left channel, image_3 for right channel\n",
    "!wget https://s3.eu-central-1.amazonaws.com/avg-kitti/data_object_image_2.zip\n",
    "!wget https://s3.eu-central-1.amazonaws.com/avg-kitti/data_object_image_3.zip\n",
    "!unzip data_object_image_2.zip\n",
    "!unzip data_object_image_3.zip\n",
    "# label\n",
    "!wget https://s3.eu-central-1.amazonaws.com/avg-kitti/data_object_label_2.zip\n",
    "!unzip data_object_label_2.zip\n",
    "\n",
    "# Verify size of data/label\n",
    "!echo \"Size of image_2 data:\"\n",
    "!ls training/image_2 -1 | wc -l\n",
    "!echo \"Size of image_3 data:\"\n",
    "!ls training/image_3 -1 | wc -l\n",
    "!echo \"Size of label_2:\"\n",
    "!ls training/label_2 -1 | wc -l"
   ]
  }
 ],
 "metadata": {
  "kernelspec": {
   "display_name": "Python 3",
   "language": "python",
   "name": "python3"
  },
  "language_info": {
   "codemirror_mode": {
    "name": "ipython",
    "version": 3
   },
   "file_extension": ".py",
   "mimetype": "text/x-python",
   "name": "python",
   "nbconvert_exporter": "python",
   "pygments_lexer": "ipython3",
   "version": "3.7.7"
  }
 },
 "nbformat": 4,
 "nbformat_minor": 4
}
