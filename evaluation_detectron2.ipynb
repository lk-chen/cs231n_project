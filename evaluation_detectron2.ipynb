{
 "cells": [
  {
   "cell_type": "code",
   "execution_count": 1,
   "metadata": {},
   "outputs": [
    {
     "name": "stdout",
     "output_type": "stream",
     "text": [
      "-- The C compiler identification is GNU 8.3.1\n",
      "-- The CXX compiler identification is GNU 9.2.1\n",
      "-- Check for working C compiler: /usr/bin/cc\n",
      "-- Check for working C compiler: /usr/bin/cc -- works\n",
      "-- Detecting C compiler ABI info\n",
      "-- Detecting C compiler ABI info - done\n",
      "-- Detecting C compile features\n",
      "-- Detecting C compile features - done\n",
      "-- Check for working CXX compiler: /usr/bin/c++\n",
      "-- Check for working CXX compiler: /usr/bin/c++ -- works\n",
      "-- Detecting CXX compiler ABI info\n",
      "-- Detecting CXX compiler ABI info - done\n",
      "-- Detecting CXX compile features\n",
      "-- Detecting CXX compile features - done\n",
      "-- Found ZLIB: /usr/lib/x86_64-linux-gnu/libz.so (found version \"1.2.11\") \n",
      "-- Found PNG: /usr/lib/x86_64-linux-gnu/libpng.so (found version \"1.6.37\") \n",
      "-- Configuring done\n",
      "-- Generating done\n",
      "-- Build files have been written to: /usr/local/google/home/lkchen/cs231n/cs231n_project/eval_kitti/build\n",
      "\u001b[35m\u001b[1mScanning dependencies of target evaluate_object\u001b[0m\n",
      "[ 50%] \u001b[32mBuilding CXX object CMakeFiles/evaluate_object.dir/evaluate_object.cpp.o\u001b[0m\n",
      "[100%] \u001b[32m\u001b[1mLinking CXX executable evaluate_object\u001b[0m\n",
      "[100%] Built target evaluate_object\n"
     ]
    }
   ],
   "source": [
    "!mkdir eval_kitti/build\n",
    "!(cd eval_kitti/build && cmake .. && make)"
   ]
  },
  {
   "cell_type": "code",
   "execution_count": 4,
   "metadata": {},
   "outputs": [
    {
     "name": "stdout",
     "output_type": "stream",
     "text": [
      "rm: cannot remove 'eval_kitti/build/data/object/label_2': No such file or directory\n",
      "Starting evaluation...\n",
      "Results list: lists/test.txt\n",
      "mkdir: cannot create directory ‘results/exp1/plot’: File exists\n",
      "Getting valid images... \n",
      "File loaded\n",
      "Loading detections... \n",
      "-----------\n",
      "GT STATS\n",
      "-----------\n",
      "car : 20\n",
      "pedestrian : 6\n",
      "cyclist : 1\n",
      "van : 3\n",
      "truck : 1\n",
      "person_sitting : 0\n",
      "tram : 0\n",
      "-----------\n",
      "DET STATS\n",
      "-----------\n",
      "car : 203\n",
      "pedestrian : 58\n",
      "cyclist : 62\n",
      "van : 54\n",
      "truck : 102\n",
      "person_sitting : 30\n",
      "tram : 18\n",
      "  done.\n",
      "Starting 2D evaluation (car) ...\n",
      "Getting detection scores to compute thresholds\n",
      "Computing statistics\n",
      "Recall discretization failed. 0 thresholds found\n",
      "car evaluation failed.\n",
      "Something happened...\n"
     ]
    }
   ],
   "source": [
    "!bash evaluation_detectron2.sh"
   ]
  }
 ],
 "metadata": {
  "kernelspec": {
   "display_name": "Python 3",
   "language": "python",
   "name": "python3"
  },
  "language_info": {
   "codemirror_mode": {
    "name": "ipython",
    "version": 3
   },
   "file_extension": ".py",
   "mimetype": "text/x-python",
   "name": "python",
   "nbconvert_exporter": "python",
   "pygments_lexer": "ipython3",
   "version": "3.7.7"
  }
 },
 "nbformat": 4,
 "nbformat_minor": 4
}
