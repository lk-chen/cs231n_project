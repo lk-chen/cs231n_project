{
 "cells": [
  {
   "cell_type": "code",
   "execution_count": 4,
   "metadata": {},
   "outputs": [
    {
     "name": "stdout",
     "output_type": "stream",
     "text": [
      "mkdir: cannot create directory ‘eval_kitti/build’: File exists\n",
      "-- Configuring done\n",
      "-- Generating done\n",
      "-- Build files have been written to: /home/lk_chen93/cs231n_project/eval_kitti/build\n",
      "[ 50%] \u001b[32mBuilding CXX object CMakeFiles/evaluate_object.dir/evaluate_object.cpp.o\u001b[0m\n",
      "[100%] \u001b[32m\u001b[1mLinking CXX executable evaluate_object\u001b[0m\n",
      "[100%] Built target evaluate_object\n"
     ]
    }
   ],
   "source": [
    "!mkdir eval_kitti/build\n",
    "!(cd eval_kitti/build && cmake .. && make)"
   ]
  },
  {
   "cell_type": "code",
   "execution_count": 11,
   "metadata": {
    "scrolled": true
   },
   "outputs": [
    {
     "name": "stdout",
     "output_type": "stream",
     "text": [
      "eval results from\n",
      "Modify: 2020-05-19 07:55:41.329539647 +0000\n",
      "\n",
      "--car detection--\n",
      "Easy\tMod.\tHard\n",
      "0.8055\t0.6753\t0.5349\n",
      "-----------------------\n",
      "\n",
      "--car orientation--\n",
      "Easy\tMod.\tHard\n",
      "0.4898\t0.3712\t0.2941\n",
      "-----------------------\n",
      "\n",
      "--pedestrian detection--\n",
      "Easy\tMod.\tHard\n",
      "0.6775\t0.5511\t0.5012\n",
      "-----------------------\n",
      "\n",
      "--pedestrian orientation--\n",
      "Easy\tMod.\tHard\n",
      "0.2783\t0.2220\t0.2015\n",
      "-----------------------\n",
      "\n",
      "--cyclist detection--\n",
      "Easy\tMod.\tHard\n",
      "0.2737\t0.1469\t0.1452\n",
      "-----------------------\n",
      "\n",
      "--cyclist orientation--\n",
      "Easy\tMod.\tHard\n",
      "0.1141\t0.0640\t0.0661\n",
      "-----------------------\n",
      "\n"
     ]
    }
   ],
   "source": [
    "!bash evaluation_detectron2.sh"
   ]
  }
 ],
 "metadata": {
  "kernelspec": {
   "display_name": "Python 3",
   "language": "python",
   "name": "python3"
  },
  "language_info": {
   "codemirror_mode": {
    "name": "ipython",
    "version": 3
   },
   "file_extension": ".py",
   "mimetype": "text/x-python",
   "name": "python",
   "nbconvert_exporter": "python",
   "pygments_lexer": "ipython3",
   "version": "3.7.3"
  }
 },
 "nbformat": 4,
 "nbformat_minor": 4
}
